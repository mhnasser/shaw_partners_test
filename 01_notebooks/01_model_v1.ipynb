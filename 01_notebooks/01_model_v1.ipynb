{
 "cells": [
  {
   "cell_type": "markdown",
   "id": "131545b4",
   "metadata": {},
   "source": [
    "## Imports"
   ]
  },
  {
   "cell_type": "code",
   "execution_count": 1,
   "id": "30b75c2c",
   "metadata": {},
   "outputs": [],
   "source": [
    "import sys\n",
    "sys.path.append('../001_modules')\n",
    "\n",
    "from trainning_tools import *\n",
    "%matplotlib inline"
   ]
  },
  {
   "cell_type": "markdown",
   "id": "2ee34be4",
   "metadata": {},
   "source": [
    "## Trainning 1"
   ]
  },
  {
   "cell_type": "code",
   "execution_count": 2,
   "id": "9883819f",
   "metadata": {},
   "outputs": [
    {
     "name": "stdout",
     "output_type": "stream",
     "text": [
      "using: cuda\n"
     ]
    }
   ],
   "source": [
    "trn_dl, val_dl = get_data()\n",
    "\n",
    "train_losses, train_accuracies = [], []\n",
    "val_losses, val_accuracies = [], []\n",
    "epochs = 10\n",
    "\n",
    "model, loss_fn, optimizer = get_model()\n",
    "\n",
    "scheduler = optim.lr_scheduler.ReduceLROnPlateau(optimizer,\n",
    "                                                factor=0.5,patience=5,\n",
    "                                                threshold = 0.001,\n",
    "                                                verbose=True,\n",
    "                                                min_lr = 1e-5,\n",
    "                                                threshold_mode = 'abs')"
   ]
  },
  {
   "cell_type": "code",
   "execution_count": null,
   "id": "e613070d",
   "metadata": {},
   "outputs": [
    {
     "name": "stderr",
     "output_type": "stream",
     "text": [
      " 30%|████████████████████████▉                                                          | 3/10 [01:59<04:38, 39.81s/it]"
     ]
    }
   ],
   "source": [
    "%%time\n",
    "for epoch in tqdm(range(epochs)):\n",
    "\n",
    "    train_epoch_losses, train_epoch_accuracies = [], []\n",
    "    \n",
    "    for ix, batch in enumerate(iter(trn_dl)):\n",
    "        x, y = batch\n",
    "        batch_loss = train_batch(x, y, model, optimizer, \\\n",
    "        loss_fn)\n",
    "        train_epoch_losses.append(batch_loss)\n",
    "    train_epoch_loss = np.array(train_epoch_losses).mean()\n",
    "    for ix, batch in enumerate(iter(trn_dl)):\n",
    "        x, y = batch\n",
    "        is_correct = accuracy(x, y, model)\n",
    "        train_epoch_accuracies.extend(is_correct)\n",
    "        train_epoch_accuracy = np.mean(train_epoch_accuracies)\n",
    "    \n",
    "    for ix, batch in enumerate(iter(val_dl)):\n",
    "        x, y = batch\n",
    "        val_is_correct = accuracy(x, y, model)\n",
    "        validation_loss = val_loss(x, y, model, loss_fn)\n",
    "        scheduler.step(validation_loss)\n",
    "    val_epoch_accuracy = np.mean(val_is_correct)\n",
    "        \n",
    "    train_losses.append(train_epoch_loss)\n",
    "    train_accuracies.append(train_epoch_accuracy)\n",
    "    val_losses.append(validation_loss)\n",
    "    val_accuracies.append(val_epoch_accuracy)"
   ]
  },
  {
   "cell_type": "code",
   "execution_count": null,
   "id": "20ab292a",
   "metadata": {},
   "outputs": [],
   "source": [
    "epochs = np.arange(epochs)+1\n",
    "plt.figure(figsize=(12,12))\n",
    "plt.subplot(211)\n",
    "plt.plot(epochs, train_losses, 'bo', label='Training loss')\n",
    "plt.plot(epochs, val_losses, 'r', label='Validation loss')\n",
    "plt.gca().xaxis.set_major_locator(mticker.MultipleLocator(1))\n",
    "plt.title('Training and validation loss \\\n",
    "when batch size is 32')\n",
    "plt.xlabel('Epochs')\n",
    "plt.ylabel('Loss')\n",
    "plt.legend()\n",
    "plt.grid('off')\n",
    "plt.subplot(212)\n",
    "plt.plot(epochs, train_accuracies, 'bo', \\\n",
    "label='Training accuracy')\n",
    "plt.plot(epochs, val_accuracies, 'r', \\\n",
    "label='Validation accuracy')\n",
    "plt.gca().xaxis.set_major_locator(mticker.MultipleLocator(1))\n",
    "plt.title('Training and validation accuracy \\\n",
    "when batch size is 32')\n",
    "plt.xlabel('Epochs')\n",
    "plt.ylabel('Accuracy')\n",
    "plt.gca().set_yticklabels(['{:.0f}%'.format(x*100) \\\n",
    "for x in plt.gca().get_yticks()])\n",
    "plt.legend()\n",
    "plt.grid('off')\n",
    "plt.tight_layout()"
   ]
  },
  {
   "cell_type": "markdown",
   "id": "58e39cc1",
   "metadata": {},
   "source": [
    "## Trainning 2"
   ]
  },
  {
   "cell_type": "code",
   "execution_count": null,
   "id": "931ecf06",
   "metadata": {},
   "outputs": [],
   "source": [
    "trn_dl, val_dl = get_data(512)\n",
    "\n",
    "train_losses, train_accuracies = [], []\n",
    "val_losses, val_accuracies = [], []\n",
    "epochs = 30\n",
    "\n",
    "model, loss_fn, optimizer = get_model()"
   ]
  },
  {
   "cell_type": "code",
   "execution_count": null,
   "id": "956b1173",
   "metadata": {},
   "outputs": [],
   "source": [
    "%%time\n",
    "for epoch in tqdm(range(epochs)):\n",
    "    \n",
    "    train_epoch_losses, train_epoch_accuracies = [], []\n",
    "    \n",
    "    for ix, batch in enumerate(iter(trn_dl)):\n",
    "        x, y = batch\n",
    "        batch_loss = train_batch(x, y, model, optimizer, \\\n",
    "        loss_fn)\n",
    "        train_epoch_losses.append(batch_loss)\n",
    "    train_epoch_loss = np.array(train_epoch_losses).mean()\n",
    "    for ix, batch in enumerate(iter(trn_dl)):\n",
    "        x, y = batch\n",
    "        is_correct = accuracy(x, y, model)\n",
    "        train_epoch_accuracies.extend(is_correct)\n",
    "        train_epoch_accuracy = np.mean(train_epoch_accuracies)\n",
    "    \n",
    "    for ix, batch in enumerate(iter(val_dl)):\n",
    "        x, y = batch\n",
    "        val_is_correct = accuracy(x, y, model)\n",
    "        validation_loss = val_loss(x, y, model, loss_fn)\n",
    "        scheduler.step(validation_loss)\n",
    "    val_epoch_accuracy = np.mean(val_is_correct)\n",
    "        \n",
    "    train_losses.append(train_epoch_loss)\n",
    "    train_accuracies.append(train_epoch_accuracy)\n",
    "    val_losses.append(validation_loss)\n",
    "    val_accuracies.append(val_epoch_accuracy)"
   ]
  },
  {
   "cell_type": "code",
   "execution_count": null,
   "id": "2cf96a20",
   "metadata": {},
   "outputs": [],
   "source": [
    "epochs = np.arange(epochs)+1\n",
    "plt.figure(figsize=(12,12))\n",
    "plt.subplot(211)\n",
    "plt.plot(epochs, train_losses, 'bo', label='Training loss')\n",
    "plt.plot(epochs, val_losses, 'r', label='Validation loss')\n",
    "plt.gca().xaxis.set_major_locator(mticker.MultipleLocator(1))\n",
    "plt.title('Training and validation loss \\\n",
    "when batch size is 512')\n",
    "plt.xlabel('Epochs')\n",
    "plt.ylabel('Loss')\n",
    "plt.legend()\n",
    "plt.grid('off')\n",
    "plt.subplot(212)\n",
    "plt.plot(epochs, train_accuracies, 'bo', \\\n",
    "label='Training accuracy')\n",
    "plt.plot(epochs, val_accuracies, 'r', \\\n",
    "label='Validation accuracy')\n",
    "plt.gca().xaxis.set_major_locator(mticker.MultipleLocator(1))\n",
    "plt.title('Training and validation accuracy \\\n",
    "when batch size is 512')\n",
    "plt.xlabel('Epochs')\n",
    "plt.ylabel('Accuracy')\n",
    "plt.gca().set_yticklabels(['{:.0f}%'.format(x*100) \\\n",
    "for x in plt.gca().get_yticks()])\n",
    "plt.legend()\n",
    "plt.grid('off')\n",
    "plt.tight_layout()"
   ]
  },
  {
   "cell_type": "markdown",
   "id": "62ee5909",
   "metadata": {},
   "source": [
    "## Trainning 3"
   ]
  },
  {
   "cell_type": "code",
   "execution_count": null,
   "id": "5d9516a2",
   "metadata": {},
   "outputs": [],
   "source": [
    "trn_dl, val_dl = get_data(512)\n",
    "\n",
    "train_losses, train_accuracies = [], []\n",
    "val_losses, val_accuracies = [], []\n",
    "epochs = 50\n",
    "\n",
    "model, loss_fn, optimizer = get_model()"
   ]
  },
  {
   "cell_type": "code",
   "execution_count": null,
   "id": "0030482d",
   "metadata": {},
   "outputs": [],
   "source": [
    "%%time\n",
    "for epoch in tqdm(range(epochs)):\n",
    "\n",
    "    train_epoch_losses, train_epoch_accuracies = [], []\n",
    "    \n",
    "    for ix, batch in enumerate(iter(trn_dl)):\n",
    "        x, y = batch\n",
    "        batch_loss = train_batch(x, y, model, optimizer, \\\n",
    "        loss_fn)\n",
    "        train_epoch_losses.append(batch_loss)\n",
    "    train_epoch_loss = np.array(train_epoch_losses).mean()\n",
    "    for ix, batch in enumerate(iter(trn_dl)):\n",
    "        x, y = batch\n",
    "        is_correct = accuracy(x, y, model)\n",
    "        train_epoch_accuracies.extend(is_correct)\n",
    "        train_epoch_accuracy = np.mean(train_epoch_accuracies)\n",
    "    \n",
    "    for ix, batch in enumerate(iter(val_dl)):\n",
    "        x, y = batch\n",
    "        val_is_correct = accuracy(x, y, model)\n",
    "        validation_loss = val_loss(x, y, model, loss_fn)\n",
    "        scheduler.step(validation_loss)\n",
    "    val_epoch_accuracy = np.mean(val_is_correct)\n",
    "        \n",
    "    train_losses.append(train_epoch_loss)\n",
    "    train_accuracies.append(train_epoch_accuracy)\n",
    "    val_losses.append(validation_loss)\n",
    "    val_accuracies.append(val_epoch_accuracy)"
   ]
  },
  {
   "cell_type": "code",
   "execution_count": null,
   "id": "b40f6472",
   "metadata": {},
   "outputs": [],
   "source": [
    "epochs = np.arange(epochs)+1\n",
    "plt.figure(figsize=(12,12))\n",
    "plt.subplot(211)\n",
    "plt.plot(epochs, train_losses, 'bo', label='Training loss')\n",
    "plt.plot(epochs, val_losses, 'r', label='Validation loss')\n",
    "plt.gca().xaxis.set_major_locator(mticker.MultipleLocator(1))\n",
    "plt.title('Training and validation loss \\\n",
    "when batch size is 512')\n",
    "plt.xlabel('Epochs')\n",
    "plt.ylabel('Loss')\n",
    "plt.legend()\n",
    "plt.grid('off')\n",
    "plt.subplot(212)\n",
    "plt.plot(epochs, train_accuracies, 'bo', \\\n",
    "label='Training accuracy')\n",
    "plt.plot(epochs, val_accuracies, 'r', \\\n",
    "label='Validation accuracy')\n",
    "plt.gca().xaxis.set_major_locator(mticker.MultipleLocator(1))\n",
    "plt.title('Training and validation accuracy \\\n",
    "when batch size is 512')\n",
    "plt.xlabel('Epochs')\n",
    "plt.ylabel('Accuracy')\n",
    "plt.gca().set_yticklabels(['{:.0f}%'.format(x*100) \\\n",
    "for x in plt.gca().get_yticks()])\n",
    "plt.legend()\n",
    "plt.grid('off')\n",
    "plt.tight_layout()"
   ]
  },
  {
   "cell_type": "markdown",
   "id": "62433c76",
   "metadata": {},
   "source": [
    "## Trainning 4"
   ]
  },
  {
   "cell_type": "code",
   "execution_count": null,
   "id": "a284bd69",
   "metadata": {},
   "outputs": [],
   "source": [
    "trn_dl, val_dl = get_data(512)\n",
    "\n",
    "train_losses, train_accuracies = [], []\n",
    "val_losses, val_accuracies = [], []\n",
    "epochs = 100\n",
    "\n",
    "model, loss_fn, optimizer = get_model('sgd')"
   ]
  },
  {
   "cell_type": "code",
   "execution_count": null,
   "id": "686760c7",
   "metadata": {},
   "outputs": [],
   "source": [
    "%%time\n",
    "for epoch in tqdm(range(epochs)):\n",
    "\n",
    "    train_epoch_losses, train_epoch_accuracies = [], []\n",
    "    \n",
    "    for ix, batch in enumerate(iter(trn_dl)):\n",
    "        x, y = batch\n",
    "        batch_loss = train_batch(x, y, model, optimizer, \\\n",
    "        loss_fn)\n",
    "        train_epoch_losses.append(batch_loss)\n",
    "    train_epoch_loss = np.array(train_epoch_losses).mean()\n",
    "    for ix, batch in enumerate(iter(trn_dl)):\n",
    "        x, y = batch\n",
    "        is_correct = accuracy(x, y, model)\n",
    "        train_epoch_accuracies.extend(is_correct)\n",
    "        train_epoch_accuracy = np.mean(train_epoch_accuracies)\n",
    "    \n",
    "    for ix, batch in enumerate(iter(val_dl)):\n",
    "        x, y = batch\n",
    "        val_is_correct = accuracy(x, y, model)\n",
    "        validation_loss = val_loss(x, y, model, loss_fn)\n",
    "        scheduler.step(validation_loss)\n",
    "    val_epoch_accuracy = np.mean(val_is_correct)\n",
    "        \n",
    "    train_losses.append(train_epoch_loss)\n",
    "    train_accuracies.append(train_epoch_accuracy)\n",
    "    val_losses.append(validation_loss)\n",
    "    val_accuracies.append(val_epoch_accuracy)"
   ]
  },
  {
   "cell_type": "code",
   "execution_count": null,
   "id": "647705b7",
   "metadata": {},
   "outputs": [],
   "source": [
    "epochs = np.arange(epochs)+1\n",
    "plt.figure(figsize=(12,12))\n",
    "plt.subplot(211)\n",
    "plt.plot(epochs, train_losses, 'bo', label='Training loss')\n",
    "plt.plot(epochs, val_losses, 'r', label='Validation loss')\n",
    "plt.gca().xaxis.set_major_locator(mticker.MultipleLocator(1))\n",
    "plt.title('Training and validation loss \\\n",
    "when batch size is 512')\n",
    "plt.xlabel('Epochs')\n",
    "plt.ylabel('Loss')\n",
    "plt.legend()\n",
    "plt.grid('off')\n",
    "plt.subplot(212)\n",
    "plt.plot(epochs, train_accuracies, 'bo', \\\n",
    "label='Training accuracy')\n",
    "plt.plot(epochs, val_accuracies, 'r', \\\n",
    "label='Validation accuracy')\n",
    "plt.gca().xaxis.set_major_locator(mticker.MultipleLocator(1))\n",
    "plt.title('Training and validation accuracy \\\n",
    "when batch size is 512')\n",
    "plt.xlabel('Epochs')\n",
    "plt.ylabel('Accuracy')\n",
    "plt.gca().set_yticklabels(['{:.0f}%'.format(x*100) \\\n",
    "for x in plt.gca().get_yticks()])\n",
    "plt.legend()\n",
    "plt.grid('off')\n",
    "plt.tight_layout()"
   ]
  },
  {
   "cell_type": "markdown",
   "id": "e9f9cb3d",
   "metadata": {},
   "source": [
    "## Trainning 5"
   ]
  },
  {
   "cell_type": "code",
   "execution_count": null,
   "id": "022988c8",
   "metadata": {},
   "outputs": [],
   "source": [
    "trn_dl, val_dl = get_data(64)\n",
    "\n",
    "train_losses, train_accuracies = [], []\n",
    "val_losses, val_accuracies = [], []\n",
    "epochs = 30\n",
    "\n",
    "model, loss_fn, optimizer = get_model('sgd')"
   ]
  },
  {
   "cell_type": "code",
   "execution_count": null,
   "id": "7a9b64f1",
   "metadata": {},
   "outputs": [],
   "source": [
    "%%time\n",
    "for epoch in tqdm(range(epochs)):\n",
    "\n",
    "    train_epoch_losses, train_epoch_accuracies = [], []\n",
    "    \n",
    "    for ix, batch in enumerate(iter(trn_dl)):\n",
    "        x, y = batch\n",
    "        batch_loss = train_batch(x, y, model, optimizer, \\\n",
    "        loss_fn)\n",
    "        train_epoch_losses.append(batch_loss)\n",
    "    train_epoch_loss = np.array(train_epoch_losses).mean()\n",
    "    for ix, batch in enumerate(iter(trn_dl)):\n",
    "        x, y = batch\n",
    "        is_correct = accuracy(x, y, model)\n",
    "        train_epoch_accuracies.extend(is_correct)\n",
    "        train_epoch_accuracy = np.mean(train_epoch_accuracies)\n",
    "    \n",
    "    for ix, batch in enumerate(iter(val_dl)):\n",
    "        x, y = batch\n",
    "        val_is_correct = accuracy(x, y, model)\n",
    "        validation_loss = val_loss(x, y, model, loss_fn)\n",
    "        scheduler.step(validation_loss)\n",
    "    val_epoch_accuracy = np.mean(val_is_correct)\n",
    "        \n",
    "    train_losses.append(train_epoch_loss)\n",
    "    train_accuracies.append(train_epoch_accuracy)\n",
    "    val_losses.append(validation_loss)\n",
    "    val_accuracies.append(val_epoch_accuracy)"
   ]
  },
  {
   "cell_type": "code",
   "execution_count": null,
   "id": "4efabc9c",
   "metadata": {},
   "outputs": [],
   "source": [
    "epochs = np.arange(epochs)+1\n",
    "plt.figure(figsize=(12,12))\n",
    "plt.subplot(211)\n",
    "plt.plot(epochs, train_losses, 'bo', label='Training loss')\n",
    "plt.plot(epochs, val_losses, 'r', label='Validation loss')\n",
    "plt.gca().xaxis.set_major_locator(mticker.MultipleLocator(1))\n",
    "plt.title('Training and validation loss \\\n",
    "when batch size is 64')\n",
    "plt.xlabel('Epochs')\n",
    "plt.ylabel('Loss')\n",
    "plt.legend()\n",
    "plt.grid('off')\n",
    "plt.subplot(212)\n",
    "plt.plot(epochs, train_accuracies, 'bo', \\\n",
    "label='Training accuracy')\n",
    "plt.plot(epochs, val_accuracies, 'r', \\\n",
    "label='Validation accuracy')\n",
    "plt.gca().xaxis.set_major_locator(mticker.MultipleLocator(1))\n",
    "plt.title('Training and validation accuracy \\\n",
    "when batch size is 64')\n",
    "plt.xlabel('Epochs')\n",
    "plt.ylabel('Accuracy')\n",
    "plt.gca().set_yticklabels(['{:.0f}%'.format(x*100) \\\n",
    "for x in plt.gca().get_yticks()])\n",
    "plt.legend()\n",
    "plt.grid('off')\n",
    "plt.tight_layout()"
   ]
  },
  {
   "cell_type": "code",
   "execution_count": null,
   "id": "7583b096",
   "metadata": {},
   "outputs": [],
   "source": [
    "torch.save(model.state_dict(), \"../02_models/mohamad_model.pth\")"
   ]
  },
  {
   "cell_type": "code",
   "execution_count": null,
   "id": "4abcdf60",
   "metadata": {},
   "outputs": [],
   "source": []
  }
 ],
 "metadata": {
  "kernelspec": {
   "display_name": "Python 3 (ipykernel)",
   "language": "python",
   "name": "python3"
  },
  "language_info": {
   "codemirror_mode": {
    "name": "ipython",
    "version": 3
   },
   "file_extension": ".py",
   "mimetype": "text/x-python",
   "name": "python",
   "nbconvert_exporter": "python",
   "pygments_lexer": "ipython3",
   "version": "3.9.12"
  }
 },
 "nbformat": 4,
 "nbformat_minor": 5
}
